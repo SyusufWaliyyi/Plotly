{
 "cells": [
  {
   "cell_type": "markdown",
   "id": "b7a1d896",
   "metadata": {},
   "source": [
    "Plotly Graphs and Figures"
   ]
  },
  {
   "cell_type": "markdown",
   "id": "0bf1ccee",
   "metadata": {},
   "source": [
    "Dash is a python library for creating interactive web applications and its absolutely free."
   ]
  },
  {
   "cell_type": "code",
   "execution_count": 42,
   "id": "57f7bd1a",
   "metadata": {},
   "outputs": [],
   "source": [
    "import plotly.express as px\n",
    "import pandas as pd\n",
    "from dash import Dash, dcc, html\n",
    "\n",
    "import warnings\n",
    "warnings.filterwarnings('ignore')"
   ]
  },
  {
   "cell_type": "code",
   "execution_count": 43,
   "id": "5c8cbd41",
   "metadata": {},
   "outputs": [
    {
     "data": {
      "application/vnd.microsoft.datawrangler.viewer.v0+json": {
       "columns": [
        {
         "name": "index",
         "rawType": "int64",
         "type": "integer"
        },
        {
         "name": "Month",
         "rawType": "object",
         "type": "string"
        },
        {
         "name": "Location",
         "rawType": "object",
         "type": "string"
        },
        {
         "name": "Country",
         "rawType": "object",
         "type": "string"
        },
        {
         "name": "Sales_Manager",
         "rawType": "object",
         "type": "string"
        },
        {
         "name": "Salesman",
         "rawType": "object",
         "type": "string"
        },
        {
         "name": "Customer",
         "rawType": "object",
         "type": "string"
        },
        {
         "name": "Cust_Type",
         "rawType": "object",
         "type": "string"
        },
        {
         "name": "Product",
         "rawType": "object",
         "type": "string"
        },
        {
         "name": "Sale",
         "rawType": "object",
         "type": "string"
        },
        {
         "name": "Cost",
         "rawType": "object",
         "type": "string"
        },
        {
         "name": "Profit",
         "rawType": "object",
         "type": "string"
        }
       ],
       "ref": "0a99c5d3-1f51-4d0a-bc8c-33e414bf51a5",
       "rows": [
        [
         "0",
         "31-Jan-23",
         "Abu Dhabi, UAE",
         "UAE",
         "Nijoe",
         "Kabir",
         "Families Co",
         "Supermarkets",
         "330 ml",
         "217,125",
         "81,114",
         "136,011"
        ],
        [
         "1",
         "31-Jan-23",
         "Abu Dhabi, UAE",
         "UAE",
         "Nijoe",
         "Kabir",
         "Families Co",
         "Supermarkets",
         "450 L-Mint",
         "10,733",
         "2,673",
         "8,060"
        ],
        [
         "2",
         "31-Jan-23",
         "Abu Dhabi, UAE",
         "UAE",
         "Nijoe",
         "Kat",
         "Rotana",
         "Hotels",
         "Partner C-Top",
         "34,403",
         "10,491",
         "23,912"
        ],
        [
         "3",
         "31-Jan-23",
         "Abu Dhabi, UAE",
         "UAE",
         "Nijoe",
         "Malik",
         "Mohideen",
         "Supermarkets",
         "200 ml-24",
         "39,452",
         "13,298",
         "26,154"
        ],
        [
         "4",
         "31-Jan-23",
         "Abu Dhabi, UAE",
         "UAE",
         "Nijoe",
         "Rehmat",
         "E-Mart",
         "Supermarkets",
         "1L Reg-12",
         "8,424",
         "1,030",
         "7,394"
        ]
       ],
       "shape": {
        "columns": 11,
        "rows": 5
       }
      },
      "text/html": [
       "<div>\n",
       "<style scoped>\n",
       "    .dataframe tbody tr th:only-of-type {\n",
       "        vertical-align: middle;\n",
       "    }\n",
       "\n",
       "    .dataframe tbody tr th {\n",
       "        vertical-align: top;\n",
       "    }\n",
       "\n",
       "    .dataframe thead th {\n",
       "        text-align: right;\n",
       "    }\n",
       "</style>\n",
       "<table border=\"1\" class=\"dataframe\">\n",
       "  <thead>\n",
       "    <tr style=\"text-align: right;\">\n",
       "      <th></th>\n",
       "      <th>Month</th>\n",
       "      <th>Location</th>\n",
       "      <th>Country</th>\n",
       "      <th>Sales_Manager</th>\n",
       "      <th>Salesman</th>\n",
       "      <th>Customer</th>\n",
       "      <th>Cust_Type</th>\n",
       "      <th>Product</th>\n",
       "      <th>Sale</th>\n",
       "      <th>Cost</th>\n",
       "      <th>Profit</th>\n",
       "    </tr>\n",
       "  </thead>\n",
       "  <tbody>\n",
       "    <tr>\n",
       "      <th>0</th>\n",
       "      <td>31-Jan-23</td>\n",
       "      <td>Abu Dhabi, UAE</td>\n",
       "      <td>UAE</td>\n",
       "      <td>Nijoe</td>\n",
       "      <td>Kabir</td>\n",
       "      <td>Families Co</td>\n",
       "      <td>Supermarkets</td>\n",
       "      <td>330 ml</td>\n",
       "      <td>217,125</td>\n",
       "      <td>81,114</td>\n",
       "      <td>136,011</td>\n",
       "    </tr>\n",
       "    <tr>\n",
       "      <th>1</th>\n",
       "      <td>31-Jan-23</td>\n",
       "      <td>Abu Dhabi, UAE</td>\n",
       "      <td>UAE</td>\n",
       "      <td>Nijoe</td>\n",
       "      <td>Kabir</td>\n",
       "      <td>Families Co</td>\n",
       "      <td>Supermarkets</td>\n",
       "      <td>450 L-Mint</td>\n",
       "      <td>10,733</td>\n",
       "      <td>2,673</td>\n",
       "      <td>8,060</td>\n",
       "    </tr>\n",
       "    <tr>\n",
       "      <th>2</th>\n",
       "      <td>31-Jan-23</td>\n",
       "      <td>Abu Dhabi, UAE</td>\n",
       "      <td>UAE</td>\n",
       "      <td>Nijoe</td>\n",
       "      <td>Kat</td>\n",
       "      <td>Rotana</td>\n",
       "      <td>Hotels</td>\n",
       "      <td>Partner C-Top</td>\n",
       "      <td>34,403</td>\n",
       "      <td>10,491</td>\n",
       "      <td>23,912</td>\n",
       "    </tr>\n",
       "    <tr>\n",
       "      <th>3</th>\n",
       "      <td>31-Jan-23</td>\n",
       "      <td>Abu Dhabi, UAE</td>\n",
       "      <td>UAE</td>\n",
       "      <td>Nijoe</td>\n",
       "      <td>Malik</td>\n",
       "      <td>Mohideen</td>\n",
       "      <td>Supermarkets</td>\n",
       "      <td>200 ml-24</td>\n",
       "      <td>39,452</td>\n",
       "      <td>13,298</td>\n",
       "      <td>26,154</td>\n",
       "    </tr>\n",
       "    <tr>\n",
       "      <th>4</th>\n",
       "      <td>31-Jan-23</td>\n",
       "      <td>Abu Dhabi, UAE</td>\n",
       "      <td>UAE</td>\n",
       "      <td>Nijoe</td>\n",
       "      <td>Rehmat</td>\n",
       "      <td>E-Mart</td>\n",
       "      <td>Supermarkets</td>\n",
       "      <td>1L Reg-12</td>\n",
       "      <td>8,424</td>\n",
       "      <td>1,030</td>\n",
       "      <td>7,394</td>\n",
       "    </tr>\n",
       "  </tbody>\n",
       "</table>\n",
       "</div>"
      ],
      "text/plain": [
       "       Month        Location Country Sales_Manager Salesman     Customer  \\\n",
       "0  31-Jan-23  Abu Dhabi, UAE     UAE         Nijoe    Kabir  Families Co   \n",
       "1  31-Jan-23  Abu Dhabi, UAE     UAE         Nijoe    Kabir  Families Co   \n",
       "2  31-Jan-23  Abu Dhabi, UAE     UAE         Nijoe      Kat       Rotana   \n",
       "3  31-Jan-23  Abu Dhabi, UAE     UAE         Nijoe    Malik     Mohideen   \n",
       "4  31-Jan-23  Abu Dhabi, UAE     UAE         Nijoe   Rehmat       E-Mart   \n",
       "\n",
       "      Cust_Type        Product     Sale    Cost   Profit  \n",
       "0  Supermarkets         330 ml  217,125  81,114  136,011  \n",
       "1  Supermarkets     450 L-Mint   10,733   2,673    8,060  \n",
       "2        Hotels  Partner C-Top   34,403  10,491   23,912  \n",
       "3  Supermarkets      200 ml-24   39,452  13,298   26,154  \n",
       "4  Supermarkets      1L Reg-12    8,424   1,030    7,394  "
      ]
     },
     "execution_count": 43,
     "metadata": {},
     "output_type": "execute_result"
    }
   ],
   "source": [
    "# Load the dataset\n",
    "df = pd.read_csv(\"Data_Participants.csv\")\n",
    "df.head()"
   ]
  },
  {
   "cell_type": "code",
   "execution_count": 44,
   "id": "d570b78d",
   "metadata": {},
   "outputs": [],
   "source": [
    "# Convert to datetime\n",
    "df['Month'] = pd.to_datetime(df['Month'], format='%d-%b-%y')\n",
    "# Covert to categorical variable\n",
    "cat_list = ['Location', 'Country','Sales_Manager', 'Salesman', 'Customer', 'Cust_Type', 'Product']\n",
    "for col in cat_list:\n",
    "    df[col] = df[col].astype('category')\n",
    "\n",
    "num_list = ['Sale', 'Profit', 'Cost']\n",
    "for col in num_list:\n",
    "    df[col] = df[col].str.replace(',', '').astype(float)"
   ]
  },
  {
   "cell_type": "code",
   "execution_count": 45,
   "id": "9f4c26f9",
   "metadata": {},
   "outputs": [
    {
     "data": {
      "application/vnd.microsoft.datawrangler.viewer.v0+json": {
       "columns": [
        {
         "name": "index",
         "rawType": "int64",
         "type": "integer"
        },
        {
         "name": "Month",
         "rawType": "datetime64[ns]",
         "type": "datetime"
        },
        {
         "name": "Country",
         "rawType": "category",
         "type": "unknown"
        },
        {
         "name": "Sale",
         "rawType": "float64",
         "type": "float"
        }
       ],
       "ref": "39019d56-a89c-49b5-9689-ef9895d5fbbb",
       "rows": [
        [
         "0",
         "2023-01-31 00:00:00",
         "Bahrain",
         "182171.0"
        ],
        [
         "1",
         "2023-01-31 00:00:00",
         "India",
         "1663626.0"
        ],
        [
         "2",
         "2023-01-31 00:00:00",
         "Kuwait",
         "126658.0"
        ],
        [
         "3",
         "2023-01-31 00:00:00",
         "Oman",
         "420820.0"
        ],
        [
         "4",
         "2023-01-31 00:00:00",
         "Qatar",
         "580104.0"
        ],
        [
         "5",
         "2023-01-31 00:00:00",
         "UAE",
         "1379637.0"
        ],
        [
         "6",
         "2023-02-28 00:00:00",
         "Bahrain",
         "122569.0"
        ],
        [
         "7",
         "2023-02-28 00:00:00",
         "India",
         "1325030.0"
        ],
        [
         "8",
         "2023-02-28 00:00:00",
         "Kuwait",
         "136109.0"
        ],
        [
         "9",
         "2023-02-28 00:00:00",
         "Oman",
         "472687.0"
        ],
        [
         "10",
         "2023-02-28 00:00:00",
         "Qatar",
         "293885.0"
        ],
        [
         "11",
         "2023-02-28 00:00:00",
         "UAE",
         "1313245.0"
        ],
        [
         "12",
         "2023-03-31 00:00:00",
         "Bahrain",
         "142066.0"
        ],
        [
         "13",
         "2023-03-31 00:00:00",
         "India",
         "2505925.0"
        ],
        [
         "14",
         "2023-03-31 00:00:00",
         "Kuwait",
         "170762.0"
        ],
        [
         "15",
         "2023-03-31 00:00:00",
         "Oman",
         "751335.0"
        ],
        [
         "16",
         "2023-03-31 00:00:00",
         "Qatar",
         "0.0"
        ],
        [
         "17",
         "2023-03-31 00:00:00",
         "UAE",
         "2615542.0"
        ],
        [
         "18",
         "2023-04-30 00:00:00",
         "Bahrain",
         "95959.0"
        ],
        [
         "19",
         "2023-04-30 00:00:00",
         "India",
         "2071513.0"
        ],
        [
         "20",
         "2023-04-30 00:00:00",
         "Kuwait",
         "221717.0"
        ],
        [
         "21",
         "2023-04-30 00:00:00",
         "Oman",
         "841614.0"
        ],
        [
         "22",
         "2023-04-30 00:00:00",
         "Qatar",
         "0.0"
        ],
        [
         "23",
         "2023-04-30 00:00:00",
         "UAE",
         "2585261.0"
        ],
        [
         "24",
         "2023-05-31 00:00:00",
         "Bahrain",
         "91327.0"
        ],
        [
         "25",
         "2023-05-31 00:00:00",
         "India",
         "1718829.0"
        ],
        [
         "26",
         "2023-05-31 00:00:00",
         "Kuwait",
         "145577.0"
        ],
        [
         "27",
         "2023-05-31 00:00:00",
         "Oman",
         "421607.0"
        ],
        [
         "28",
         "2023-05-31 00:00:00",
         "Qatar",
         "0.0"
        ],
        [
         "29",
         "2023-05-31 00:00:00",
         "UAE",
         "1435664.0"
        ],
        [
         "30",
         "2023-06-30 00:00:00",
         "Bahrain",
         "100461.0"
        ],
        [
         "31",
         "2023-06-30 00:00:00",
         "India",
         "1890709.0"
        ],
        [
         "32",
         "2023-06-30 00:00:00",
         "Kuwait",
         "160135.0"
        ],
        [
         "33",
         "2023-06-30 00:00:00",
         "Oman",
         "463762.0"
        ],
        [
         "34",
         "2023-06-30 00:00:00",
         "Qatar",
         "0.0"
        ],
        [
         "35",
         "2023-06-30 00:00:00",
         "UAE",
         "1579229.0"
        ],
        [
         "36",
         "2023-07-31 00:00:00",
         "Bahrain",
         "87356.0"
        ],
        [
         "37",
         "2023-07-31 00:00:00",
         "India",
         "1644091.0"
        ],
        [
         "38",
         "2023-07-31 00:00:00",
         "Kuwait",
         "139247.0"
        ],
        [
         "39",
         "2023-07-31 00:00:00",
         "Oman",
         "403274.0"
        ],
        [
         "40",
         "2023-07-31 00:00:00",
         "Qatar",
         "0.0"
        ],
        [
         "41",
         "2023-07-31 00:00:00",
         "UAE",
         "1373239.0"
        ],
        [
         "42",
         "2023-08-31 00:00:00",
         "Bahrain",
         "113563.0"
        ],
        [
         "43",
         "2023-08-31 00:00:00",
         "India",
         "2137317.0"
        ],
        [
         "44",
         "2023-08-31 00:00:00",
         "Kuwait",
         "181020.0"
        ],
        [
         "45",
         "2023-08-31 00:00:00",
         "Oman",
         "524256.0"
        ],
        [
         "46",
         "2023-08-31 00:00:00",
         "Qatar",
         "0.0"
        ],
        [
         "47",
         "2023-08-31 00:00:00",
         "UAE",
         "1785207.0"
        ],
        [
         "48",
         "2023-09-30 00:00:00",
         "Bahrain",
         "81244.0"
        ],
        [
         "49",
         "2023-09-30 00:00:00",
         "India",
         "1718217.0"
        ]
       ],
       "shape": {
        "columns": 3,
        "rows": 126
       }
      },
      "text/html": [
       "<div>\n",
       "<style scoped>\n",
       "    .dataframe tbody tr th:only-of-type {\n",
       "        vertical-align: middle;\n",
       "    }\n",
       "\n",
       "    .dataframe tbody tr th {\n",
       "        vertical-align: top;\n",
       "    }\n",
       "\n",
       "    .dataframe thead th {\n",
       "        text-align: right;\n",
       "    }\n",
       "</style>\n",
       "<table border=\"1\" class=\"dataframe\">\n",
       "  <thead>\n",
       "    <tr style=\"text-align: right;\">\n",
       "      <th></th>\n",
       "      <th>Month</th>\n",
       "      <th>Country</th>\n",
       "      <th>Sale</th>\n",
       "    </tr>\n",
       "  </thead>\n",
       "  <tbody>\n",
       "    <tr>\n",
       "      <th>0</th>\n",
       "      <td>2023-01-31</td>\n",
       "      <td>Bahrain</td>\n",
       "      <td>182171.0</td>\n",
       "    </tr>\n",
       "    <tr>\n",
       "      <th>1</th>\n",
       "      <td>2023-01-31</td>\n",
       "      <td>India</td>\n",
       "      <td>1663626.0</td>\n",
       "    </tr>\n",
       "    <tr>\n",
       "      <th>2</th>\n",
       "      <td>2023-01-31</td>\n",
       "      <td>Kuwait</td>\n",
       "      <td>126658.0</td>\n",
       "    </tr>\n",
       "    <tr>\n",
       "      <th>3</th>\n",
       "      <td>2023-01-31</td>\n",
       "      <td>Oman</td>\n",
       "      <td>420820.0</td>\n",
       "    </tr>\n",
       "    <tr>\n",
       "      <th>4</th>\n",
       "      <td>2023-01-31</td>\n",
       "      <td>Qatar</td>\n",
       "      <td>580104.0</td>\n",
       "    </tr>\n",
       "    <tr>\n",
       "      <th>...</th>\n",
       "      <td>...</td>\n",
       "      <td>...</td>\n",
       "      <td>...</td>\n",
       "    </tr>\n",
       "    <tr>\n",
       "      <th>121</th>\n",
       "      <td>2024-09-30</td>\n",
       "      <td>India</td>\n",
       "      <td>1438470.0</td>\n",
       "    </tr>\n",
       "    <tr>\n",
       "      <th>122</th>\n",
       "      <td>2024-09-30</td>\n",
       "      <td>Kuwait</td>\n",
       "      <td>55755.0</td>\n",
       "    </tr>\n",
       "    <tr>\n",
       "      <th>123</th>\n",
       "      <td>2024-09-30</td>\n",
       "      <td>Oman</td>\n",
       "      <td>338940.0</td>\n",
       "    </tr>\n",
       "    <tr>\n",
       "      <th>124</th>\n",
       "      <td>2024-09-30</td>\n",
       "      <td>Qatar</td>\n",
       "      <td>0.0</td>\n",
       "    </tr>\n",
       "    <tr>\n",
       "      <th>125</th>\n",
       "      <td>2024-09-30</td>\n",
       "      <td>UAE</td>\n",
       "      <td>1059075.0</td>\n",
       "    </tr>\n",
       "  </tbody>\n",
       "</table>\n",
       "<p>126 rows × 3 columns</p>\n",
       "</div>"
      ],
      "text/plain": [
       "         Month  Country       Sale\n",
       "0   2023-01-31  Bahrain   182171.0\n",
       "1   2023-01-31    India  1663626.0\n",
       "2   2023-01-31   Kuwait   126658.0\n",
       "3   2023-01-31     Oman   420820.0\n",
       "4   2023-01-31    Qatar   580104.0\n",
       "..         ...      ...        ...\n",
       "121 2024-09-30    India  1438470.0\n",
       "122 2024-09-30   Kuwait    55755.0\n",
       "123 2024-09-30     Oman   338940.0\n",
       "124 2024-09-30    Qatar        0.0\n",
       "125 2024-09-30      UAE  1059075.0\n",
       "\n",
       "[126 rows x 3 columns]"
      ]
     },
     "execution_count": 45,
     "metadata": {},
     "output_type": "execute_result"
    }
   ],
   "source": [
    "sales_country = df.groupby([\"Month\", \"Country\"])[\"Sale\"].sum().reset_index()\n",
    "sales_country"
   ]
  },
  {
   "cell_type": "code",
   "execution_count": 46,
   "id": "9f929a79",
   "metadata": {},
   "outputs": [
    {
     "data": {
      "application/vnd.plotly.v1+json": {
       "config": {
        "plotlyServerURL": "https://plot.ly"
       },
       "data": [
        {
         "hovertemplate": "Country=Bahrain<br>Month=%{x}<br>Sale=%{y}<extra></extra>",
         "legendgroup": "Bahrain",
         "line": {
          "color": "#636efa",
          "dash": "solid"
         },
         "marker": {
          "symbol": "circle"
         },
         "mode": "lines",
         "name": "Bahrain",
         "orientation": "v",
         "showlegend": true,
         "type": "scatter",
         "x": [
          "2023-01-31T00:00:00.000000000",
          "2023-02-28T00:00:00.000000000",
          "2023-03-31T00:00:00.000000000",
          "2023-04-30T00:00:00.000000000",
          "2023-05-31T00:00:00.000000000",
          "2023-06-30T00:00:00.000000000",
          "2023-07-31T00:00:00.000000000",
          "2023-08-31T00:00:00.000000000",
          "2023-09-30T00:00:00.000000000",
          "2023-10-31T00:00:00.000000000",
          "2023-11-30T00:00:00.000000000",
          "2023-12-31T00:00:00.000000000",
          "2024-01-31T00:00:00.000000000",
          "2024-02-29T00:00:00.000000000",
          "2024-03-31T00:00:00.000000000",
          "2024-04-30T00:00:00.000000000",
          "2024-05-31T00:00:00.000000000",
          "2024-06-30T00:00:00.000000000",
          "2024-07-31T00:00:00.000000000",
          "2024-08-31T00:00:00.000000000",
          "2024-09-30T00:00:00.000000000"
         ],
         "xaxis": "x",
         "y": {
          "bdata": "AAAAANg8BkEAAAAAkOz9QAAAAACQVwFBAAAAAHBt90AAAAAA8Ev2QAAAAADQhvhAAAAAAMBT9UAAAAAAsLn7QAAAAADA1fNAAAAAANDX/kAAAAAA+A0IQQAAAABwEgRBAAAAAOCy90AAAAAAAJn6QAAAAABwgPpAAAAAAAAs+UAAAAAA8Ev2QAAAAADQhvhAAAAAAECp9kAAAAAAkKcDQQAAAACwtw9B",
          "dtype": "f8"
         },
         "yaxis": "y"
        },
        {
         "hovertemplate": "Country=India<br>Month=%{x}<br>Sale=%{y}<extra></extra>",
         "legendgroup": "India",
         "line": {
          "color": "#EF553B",
          "dash": "solid"
         },
         "marker": {
          "symbol": "circle"
         },
         "mode": "lines",
         "name": "India",
         "orientation": "v",
         "showlegend": true,
         "type": "scatter",
         "x": [
          "2023-01-31T00:00:00.000000000",
          "2023-02-28T00:00:00.000000000",
          "2023-03-31T00:00:00.000000000",
          "2023-04-30T00:00:00.000000000",
          "2023-05-31T00:00:00.000000000",
          "2023-06-30T00:00:00.000000000",
          "2023-07-31T00:00:00.000000000",
          "2023-08-31T00:00:00.000000000",
          "2023-09-30T00:00:00.000000000",
          "2023-10-31T00:00:00.000000000",
          "2023-11-30T00:00:00.000000000",
          "2023-12-31T00:00:00.000000000",
          "2024-01-31T00:00:00.000000000",
          "2024-02-29T00:00:00.000000000",
          "2024-03-31T00:00:00.000000000",
          "2024-04-30T00:00:00.000000000",
          "2024-05-31T00:00:00.000000000",
          "2024-06-30T00:00:00.000000000",
          "2024-07-31T00:00:00.000000000",
          "2024-08-31T00:00:00.000000000",
          "2024-09-30T00:00:00.000000000"
         ],
         "xaxis": "x",
         "y": {
          "bdata": "AAAAAIpiOUEAAAAA5jc0QQAAAIBiHkNBAAAAANmbP0EAAAAALTo6QQAAAACV2TxBAAAAADsWOUEAAACAck5AQQAAAADJNzpBAAAAALHbM0EAAAAAWCM4QQAAAABp/TRBAAAAADz9O0EAAAAAgIk9QQAAAABvrzhBAAAAAFHpMEEAAAAALTo6QQAAAACV2TxBAAAAAFtrNUEAAAAA4HE3QQAAAAAG8zVB",
          "dtype": "f8"
         },
         "yaxis": "y"
        },
        {
         "hovertemplate": "Country=Kuwait<br>Month=%{x}<br>Sale=%{y}<extra></extra>",
         "legendgroup": "Kuwait",
         "line": {
          "color": "#00cc96",
          "dash": "solid"
         },
         "marker": {
          "symbol": "circle"
         },
         "mode": "lines",
         "name": "Kuwait",
         "orientation": "v",
         "showlegend": true,
         "type": "scatter",
         "x": [
          "2023-01-31T00:00:00.000000000",
          "2023-02-28T00:00:00.000000000",
          "2023-03-31T00:00:00.000000000",
          "2023-04-30T00:00:00.000000000",
          "2023-05-31T00:00:00.000000000",
          "2023-06-30T00:00:00.000000000",
          "2023-07-31T00:00:00.000000000",
          "2023-08-31T00:00:00.000000000",
          "2023-09-30T00:00:00.000000000",
          "2023-10-31T00:00:00.000000000",
          "2023-11-30T00:00:00.000000000",
          "2023-12-31T00:00:00.000000000",
          "2024-01-31T00:00:00.000000000",
          "2024-02-29T00:00:00.000000000",
          "2024-03-31T00:00:00.000000000",
          "2024-04-30T00:00:00.000000000",
          "2024-05-31T00:00:00.000000000",
          "2024-06-30T00:00:00.000000000",
          "2024-07-31T00:00:00.000000000",
          "2024-08-31T00:00:00.000000000",
          "2024-09-30T00:00:00.000000000"
         ],
         "xaxis": "x",
         "y": {
          "bdata": "AAAAACDs/kAAAAAAaJ0AQQAAAABQ2ARBAAAAAKgQC0EAAAAASMUBQQAAAAA4jANBAAAAAHj/AEEAAAAA4BgGQQAAAABQKfpAAAAAAMDJ5UAAAAAAUMD8QAAAAADgIPZAAAAAAEAr/UAAAAAAMGTyQAAAAAAgNONAAAAAACAV40AAAAAASMUBQQAAAAA4jANBAAAAAKBl6kAAAAAAQFPiQAAAAABgOetA",
          "dtype": "f8"
         },
         "yaxis": "y"
        },
        {
         "hovertemplate": "Country=Oman<br>Month=%{x}<br>Sale=%{y}<extra></extra>",
         "legendgroup": "Oman",
         "line": {
          "color": "#ab63fa",
          "dash": "solid"
         },
         "marker": {
          "symbol": "circle"
         },
         "mode": "lines",
         "name": "Oman",
         "orientation": "v",
         "showlegend": true,
         "type": "scatter",
         "x": [
          "2023-01-31T00:00:00.000000000",
          "2023-02-28T00:00:00.000000000",
          "2023-03-31T00:00:00.000000000",
          "2023-04-30T00:00:00.000000000",
          "2023-05-31T00:00:00.000000000",
          "2023-06-30T00:00:00.000000000",
          "2023-07-31T00:00:00.000000000",
          "2023-08-31T00:00:00.000000000",
          "2023-09-30T00:00:00.000000000",
          "2023-10-31T00:00:00.000000000",
          "2023-11-30T00:00:00.000000000",
          "2023-12-31T00:00:00.000000000",
          "2024-01-31T00:00:00.000000000",
          "2024-02-29T00:00:00.000000000",
          "2024-03-31T00:00:00.000000000",
          "2024-04-30T00:00:00.000000000",
          "2024-05-31T00:00:00.000000000",
          "2024-06-30T00:00:00.000000000",
          "2024-07-31T00:00:00.000000000",
          "2024-08-31T00:00:00.000000000",
          "2024-09-30T00:00:00.000000000"
         ],
         "xaxis": "x",
         "y": {
          "bdata": "AAAAAFCvGUEAAAAAvNkcQQAAAADO7SZBAAAAAByvKUEAAAAAnLsZQQAAAABIThxBAAAAACidGEEAAAAAgP8fQQAAAACcqhZBAAAAAASGF0EAAAAAQO0dQQAAAABoviJBAAAAALjpGUEAAAAAELgaQQAAAACAiRlBAAAAAIBsC0EAAAAAnLsZQQAAAABIThxBAAAAAAzaHUEAAAAAPGYSQQAAAADwrxRB",
          "dtype": "f8"
         },
         "yaxis": "y"
        },
        {
         "hovertemplate": "Country=Qatar<br>Month=%{x}<br>Sale=%{y}<extra></extra>",
         "legendgroup": "Qatar",
         "line": {
          "color": "#FFA15A",
          "dash": "solid"
         },
         "marker": {
          "symbol": "circle"
         },
         "mode": "lines",
         "name": "Qatar",
         "orientation": "v",
         "showlegend": true,
         "type": "scatter",
         "x": [
          "2023-01-31T00:00:00.000000000",
          "2023-02-28T00:00:00.000000000",
          "2023-03-31T00:00:00.000000000",
          "2023-04-30T00:00:00.000000000",
          "2023-05-31T00:00:00.000000000",
          "2023-06-30T00:00:00.000000000",
          "2023-07-31T00:00:00.000000000",
          "2023-08-31T00:00:00.000000000",
          "2023-09-30T00:00:00.000000000",
          "2023-10-31T00:00:00.000000000",
          "2023-11-30T00:00:00.000000000",
          "2023-12-31T00:00:00.000000000",
          "2024-01-31T00:00:00.000000000",
          "2024-02-29T00:00:00.000000000",
          "2024-03-31T00:00:00.000000000",
          "2024-04-30T00:00:00.000000000",
          "2024-05-31T00:00:00.000000000",
          "2024-06-30T00:00:00.000000000",
          "2024-07-31T00:00:00.000000000",
          "2024-08-31T00:00:00.000000000",
          "2024-09-30T00:00:00.000000000"
         ],
         "xaxis": "x",
         "y": {
          "bdata": "AAAAABC0IUEAAAAA9O8RQQAAAAAAAAAAAAAAAAAAAAAAAAAAAAAAAAAAAAAAAAAAAAAAAAAAAAAAAAAAAAAAAAAAAAAAAAAAAAAAAKAg4kAAAAAAOSAwQQAAAABg2hpBAAAAAAAAAAAAAAAAAAAAAAAAAAAAAAAAAAAAAAAAAAAAAAAAAAAAAAAAAAAAAAAAAAAAAABqtkAAAAAAAAAAAAAAAAAAAAAA",
          "dtype": "f8"
         },
         "yaxis": "y"
        },
        {
         "hovertemplate": "Country=UAE<br>Month=%{x}<br>Sale=%{y}<extra></extra>",
         "legendgroup": "UAE",
         "line": {
          "color": "#19d3f3",
          "dash": "solid"
         },
         "marker": {
          "symbol": "circle"
         },
         "mode": "lines",
         "name": "UAE",
         "orientation": "v",
         "showlegend": true,
         "type": "scatter",
         "x": [
          "2023-01-31T00:00:00.000000000",
          "2023-02-28T00:00:00.000000000",
          "2023-03-31T00:00:00.000000000",
          "2023-04-30T00:00:00.000000000",
          "2023-05-31T00:00:00.000000000",
          "2023-06-30T00:00:00.000000000",
          "2023-07-31T00:00:00.000000000",
          "2023-08-31T00:00:00.000000000",
          "2023-09-30T00:00:00.000000000",
          "2023-10-31T00:00:00.000000000",
          "2023-11-30T00:00:00.000000000",
          "2023-12-31T00:00:00.000000000",
          "2024-01-31T00:00:00.000000000",
          "2024-02-29T00:00:00.000000000",
          "2024-03-31T00:00:00.000000000",
          "2024-04-30T00:00:00.000000000",
          "2024-05-31T00:00:00.000000000",
          "2024-06-30T00:00:00.000000000",
          "2024-07-31T00:00:00.000000000",
          "2024-08-31T00:00:00.000000000",
          "2024-09-30T00:00:00.000000000"
         ],
         "xaxis": "x",
         "y": {
          "bdata": "AAAAADUNNUEAAAAA3Qk0QQAAAAB79ENBAAAAgFa5Q0EAAAAAEOg1QQAAAADdGDhBAAAAADf0NEEAAAAAdz07QQAAAACaBixBAAAAAH5JI0EAAAAAWh0vQQAAAABSpipBAAAAANyFJUEAAAAAKBQsQQAAAAAsRyRBAAAAAND3H0EAAAAAEOg1QQAAAADdGDhBAAAAAABAKkEAAAAARuUwQQAAAAADKTBB",
          "dtype": "f8"
         },
         "yaxis": "y"
        }
       ],
       "layout": {
        "legend": {
         "title": {
          "text": "Country"
         },
         "tracegroupgap": 0
        },
        "template": {
         "data": {
          "bar": [
           {
            "error_x": {
             "color": "#2a3f5f"
            },
            "error_y": {
             "color": "#2a3f5f"
            },
            "marker": {
             "line": {
              "color": "#E5ECF6",
              "width": 0.5
             },
             "pattern": {
              "fillmode": "overlay",
              "size": 10,
              "solidity": 0.2
             }
            },
            "type": "bar"
           }
          ],
          "barpolar": [
           {
            "marker": {
             "line": {
              "color": "#E5ECF6",
              "width": 0.5
             },
             "pattern": {
              "fillmode": "overlay",
              "size": 10,
              "solidity": 0.2
             }
            },
            "type": "barpolar"
           }
          ],
          "carpet": [
           {
            "aaxis": {
             "endlinecolor": "#2a3f5f",
             "gridcolor": "white",
             "linecolor": "white",
             "minorgridcolor": "white",
             "startlinecolor": "#2a3f5f"
            },
            "baxis": {
             "endlinecolor": "#2a3f5f",
             "gridcolor": "white",
             "linecolor": "white",
             "minorgridcolor": "white",
             "startlinecolor": "#2a3f5f"
            },
            "type": "carpet"
           }
          ],
          "choropleth": [
           {
            "colorbar": {
             "outlinewidth": 0,
             "ticks": ""
            },
            "type": "choropleth"
           }
          ],
          "contour": [
           {
            "colorbar": {
             "outlinewidth": 0,
             "ticks": ""
            },
            "colorscale": [
             [
              0,
              "#0d0887"
             ],
             [
              0.1111111111111111,
              "#46039f"
             ],
             [
              0.2222222222222222,
              "#7201a8"
             ],
             [
              0.3333333333333333,
              "#9c179e"
             ],
             [
              0.4444444444444444,
              "#bd3786"
             ],
             [
              0.5555555555555556,
              "#d8576b"
             ],
             [
              0.6666666666666666,
              "#ed7953"
             ],
             [
              0.7777777777777778,
              "#fb9f3a"
             ],
             [
              0.8888888888888888,
              "#fdca26"
             ],
             [
              1,
              "#f0f921"
             ]
            ],
            "type": "contour"
           }
          ],
          "contourcarpet": [
           {
            "colorbar": {
             "outlinewidth": 0,
             "ticks": ""
            },
            "type": "contourcarpet"
           }
          ],
          "heatmap": [
           {
            "colorbar": {
             "outlinewidth": 0,
             "ticks": ""
            },
            "colorscale": [
             [
              0,
              "#0d0887"
             ],
             [
              0.1111111111111111,
              "#46039f"
             ],
             [
              0.2222222222222222,
              "#7201a8"
             ],
             [
              0.3333333333333333,
              "#9c179e"
             ],
             [
              0.4444444444444444,
              "#bd3786"
             ],
             [
              0.5555555555555556,
              "#d8576b"
             ],
             [
              0.6666666666666666,
              "#ed7953"
             ],
             [
              0.7777777777777778,
              "#fb9f3a"
             ],
             [
              0.8888888888888888,
              "#fdca26"
             ],
             [
              1,
              "#f0f921"
             ]
            ],
            "type": "heatmap"
           }
          ],
          "histogram": [
           {
            "marker": {
             "pattern": {
              "fillmode": "overlay",
              "size": 10,
              "solidity": 0.2
             }
            },
            "type": "histogram"
           }
          ],
          "histogram2d": [
           {
            "colorbar": {
             "outlinewidth": 0,
             "ticks": ""
            },
            "colorscale": [
             [
              0,
              "#0d0887"
             ],
             [
              0.1111111111111111,
              "#46039f"
             ],
             [
              0.2222222222222222,
              "#7201a8"
             ],
             [
              0.3333333333333333,
              "#9c179e"
             ],
             [
              0.4444444444444444,
              "#bd3786"
             ],
             [
              0.5555555555555556,
              "#d8576b"
             ],
             [
              0.6666666666666666,
              "#ed7953"
             ],
             [
              0.7777777777777778,
              "#fb9f3a"
             ],
             [
              0.8888888888888888,
              "#fdca26"
             ],
             [
              1,
              "#f0f921"
             ]
            ],
            "type": "histogram2d"
           }
          ],
          "histogram2dcontour": [
           {
            "colorbar": {
             "outlinewidth": 0,
             "ticks": ""
            },
            "colorscale": [
             [
              0,
              "#0d0887"
             ],
             [
              0.1111111111111111,
              "#46039f"
             ],
             [
              0.2222222222222222,
              "#7201a8"
             ],
             [
              0.3333333333333333,
              "#9c179e"
             ],
             [
              0.4444444444444444,
              "#bd3786"
             ],
             [
              0.5555555555555556,
              "#d8576b"
             ],
             [
              0.6666666666666666,
              "#ed7953"
             ],
             [
              0.7777777777777778,
              "#fb9f3a"
             ],
             [
              0.8888888888888888,
              "#fdca26"
             ],
             [
              1,
              "#f0f921"
             ]
            ],
            "type": "histogram2dcontour"
           }
          ],
          "mesh3d": [
           {
            "colorbar": {
             "outlinewidth": 0,
             "ticks": ""
            },
            "type": "mesh3d"
           }
          ],
          "parcoords": [
           {
            "line": {
             "colorbar": {
              "outlinewidth": 0,
              "ticks": ""
             }
            },
            "type": "parcoords"
           }
          ],
          "pie": [
           {
            "automargin": true,
            "type": "pie"
           }
          ],
          "scatter": [
           {
            "fillpattern": {
             "fillmode": "overlay",
             "size": 10,
             "solidity": 0.2
            },
            "type": "scatter"
           }
          ],
          "scatter3d": [
           {
            "line": {
             "colorbar": {
              "outlinewidth": 0,
              "ticks": ""
             }
            },
            "marker": {
             "colorbar": {
              "outlinewidth": 0,
              "ticks": ""
             }
            },
            "type": "scatter3d"
           }
          ],
          "scattercarpet": [
           {
            "marker": {
             "colorbar": {
              "outlinewidth": 0,
              "ticks": ""
             }
            },
            "type": "scattercarpet"
           }
          ],
          "scattergeo": [
           {
            "marker": {
             "colorbar": {
              "outlinewidth": 0,
              "ticks": ""
             }
            },
            "type": "scattergeo"
           }
          ],
          "scattergl": [
           {
            "marker": {
             "colorbar": {
              "outlinewidth": 0,
              "ticks": ""
             }
            },
            "type": "scattergl"
           }
          ],
          "scattermap": [
           {
            "marker": {
             "colorbar": {
              "outlinewidth": 0,
              "ticks": ""
             }
            },
            "type": "scattermap"
           }
          ],
          "scattermapbox": [
           {
            "marker": {
             "colorbar": {
              "outlinewidth": 0,
              "ticks": ""
             }
            },
            "type": "scattermapbox"
           }
          ],
          "scatterpolar": [
           {
            "marker": {
             "colorbar": {
              "outlinewidth": 0,
              "ticks": ""
             }
            },
            "type": "scatterpolar"
           }
          ],
          "scatterpolargl": [
           {
            "marker": {
             "colorbar": {
              "outlinewidth": 0,
              "ticks": ""
             }
            },
            "type": "scatterpolargl"
           }
          ],
          "scatterternary": [
           {
            "marker": {
             "colorbar": {
              "outlinewidth": 0,
              "ticks": ""
             }
            },
            "type": "scatterternary"
           }
          ],
          "surface": [
           {
            "colorbar": {
             "outlinewidth": 0,
             "ticks": ""
            },
            "colorscale": [
             [
              0,
              "#0d0887"
             ],
             [
              0.1111111111111111,
              "#46039f"
             ],
             [
              0.2222222222222222,
              "#7201a8"
             ],
             [
              0.3333333333333333,
              "#9c179e"
             ],
             [
              0.4444444444444444,
              "#bd3786"
             ],
             [
              0.5555555555555556,
              "#d8576b"
             ],
             [
              0.6666666666666666,
              "#ed7953"
             ],
             [
              0.7777777777777778,
              "#fb9f3a"
             ],
             [
              0.8888888888888888,
              "#fdca26"
             ],
             [
              1,
              "#f0f921"
             ]
            ],
            "type": "surface"
           }
          ],
          "table": [
           {
            "cells": {
             "fill": {
              "color": "#EBF0F8"
             },
             "line": {
              "color": "white"
             }
            },
            "header": {
             "fill": {
              "color": "#C8D4E3"
             },
             "line": {
              "color": "white"
             }
            },
            "type": "table"
           }
          ]
         },
         "layout": {
          "annotationdefaults": {
           "arrowcolor": "#2a3f5f",
           "arrowhead": 0,
           "arrowwidth": 1
          },
          "autotypenumbers": "strict",
          "coloraxis": {
           "colorbar": {
            "outlinewidth": 0,
            "ticks": ""
           }
          },
          "colorscale": {
           "diverging": [
            [
             0,
             "#8e0152"
            ],
            [
             0.1,
             "#c51b7d"
            ],
            [
             0.2,
             "#de77ae"
            ],
            [
             0.3,
             "#f1b6da"
            ],
            [
             0.4,
             "#fde0ef"
            ],
            [
             0.5,
             "#f7f7f7"
            ],
            [
             0.6,
             "#e6f5d0"
            ],
            [
             0.7,
             "#b8e186"
            ],
            [
             0.8,
             "#7fbc41"
            ],
            [
             0.9,
             "#4d9221"
            ],
            [
             1,
             "#276419"
            ]
           ],
           "sequential": [
            [
             0,
             "#0d0887"
            ],
            [
             0.1111111111111111,
             "#46039f"
            ],
            [
             0.2222222222222222,
             "#7201a8"
            ],
            [
             0.3333333333333333,
             "#9c179e"
            ],
            [
             0.4444444444444444,
             "#bd3786"
            ],
            [
             0.5555555555555556,
             "#d8576b"
            ],
            [
             0.6666666666666666,
             "#ed7953"
            ],
            [
             0.7777777777777778,
             "#fb9f3a"
            ],
            [
             0.8888888888888888,
             "#fdca26"
            ],
            [
             1,
             "#f0f921"
            ]
           ],
           "sequentialminus": [
            [
             0,
             "#0d0887"
            ],
            [
             0.1111111111111111,
             "#46039f"
            ],
            [
             0.2222222222222222,
             "#7201a8"
            ],
            [
             0.3333333333333333,
             "#9c179e"
            ],
            [
             0.4444444444444444,
             "#bd3786"
            ],
            [
             0.5555555555555556,
             "#d8576b"
            ],
            [
             0.6666666666666666,
             "#ed7953"
            ],
            [
             0.7777777777777778,
             "#fb9f3a"
            ],
            [
             0.8888888888888888,
             "#fdca26"
            ],
            [
             1,
             "#f0f921"
            ]
           ]
          },
          "colorway": [
           "#636efa",
           "#EF553B",
           "#00cc96",
           "#ab63fa",
           "#FFA15A",
           "#19d3f3",
           "#FF6692",
           "#B6E880",
           "#FF97FF",
           "#FECB52"
          ],
          "font": {
           "color": "#2a3f5f"
          },
          "geo": {
           "bgcolor": "white",
           "lakecolor": "white",
           "landcolor": "#E5ECF6",
           "showlakes": true,
           "showland": true,
           "subunitcolor": "white"
          },
          "hoverlabel": {
           "align": "left"
          },
          "hovermode": "closest",
          "mapbox": {
           "style": "light"
          },
          "paper_bgcolor": "white",
          "plot_bgcolor": "#E5ECF6",
          "polar": {
           "angularaxis": {
            "gridcolor": "white",
            "linecolor": "white",
            "ticks": ""
           },
           "bgcolor": "#E5ECF6",
           "radialaxis": {
            "gridcolor": "white",
            "linecolor": "white",
            "ticks": ""
           }
          },
          "scene": {
           "xaxis": {
            "backgroundcolor": "#E5ECF6",
            "gridcolor": "white",
            "gridwidth": 2,
            "linecolor": "white",
            "showbackground": true,
            "ticks": "",
            "zerolinecolor": "white"
           },
           "yaxis": {
            "backgroundcolor": "#E5ECF6",
            "gridcolor": "white",
            "gridwidth": 2,
            "linecolor": "white",
            "showbackground": true,
            "ticks": "",
            "zerolinecolor": "white"
           },
           "zaxis": {
            "backgroundcolor": "#E5ECF6",
            "gridcolor": "white",
            "gridwidth": 2,
            "linecolor": "white",
            "showbackground": true,
            "ticks": "",
            "zerolinecolor": "white"
           }
          },
          "shapedefaults": {
           "line": {
            "color": "#2a3f5f"
           }
          },
          "ternary": {
           "aaxis": {
            "gridcolor": "white",
            "linecolor": "white",
            "ticks": ""
           },
           "baxis": {
            "gridcolor": "white",
            "linecolor": "white",
            "ticks": ""
           },
           "bgcolor": "#E5ECF6",
           "caxis": {
            "gridcolor": "white",
            "linecolor": "white",
            "ticks": ""
           }
          },
          "title": {
           "x": 0.05
          },
          "xaxis": {
           "automargin": true,
           "gridcolor": "white",
           "linecolor": "white",
           "ticks": "",
           "title": {
            "standoff": 15
           },
           "zerolinecolor": "white",
           "zerolinewidth": 2
          },
          "yaxis": {
           "automargin": true,
           "gridcolor": "white",
           "linecolor": "white",
           "ticks": "",
           "title": {
            "standoff": 15
           },
           "zerolinecolor": "white",
           "zerolinewidth": 2
          }
         }
        },
        "title": {
         "text": "Sales Over Time"
        },
        "xaxis": {
         "anchor": "y",
         "domain": [
          0,
          1
         ],
         "title": {
          "text": "Month"
         }
        },
        "yaxis": {
         "anchor": "x",
         "domain": [
          0,
          1
         ],
         "title": {
          "text": "Sale"
         }
        }
       }
      }
     },
     "metadata": {},
     "output_type": "display_data"
    }
   ],
   "source": [
    "line_chart = px.line(sales_country, x=\"Month\", y=\"Sale\", color=\"Country\",\n",
    "                     title=\"Sales Over Time\")\n",
    "line_chart.show()"
   ]
  },
  {
   "cell_type": "code",
   "execution_count": 47,
   "id": "d1d440d3",
   "metadata": {},
   "outputs": [
    {
     "data": {
      "application/vnd.plotly.v1+json": {
       "config": {
        "plotlyServerURL": "https://plot.ly"
       },
       "data": [
        {
         "hovertemplate": "Country=%{y}<br>Sale=%{x}<extra></extra>",
         "legendgroup": "Bahrain",
         "marker": {
          "color": "#636efa",
          "line": {
           "width": 0
          },
          "pattern": {
           "shape": ""
          }
         },
         "name": "Bahrain",
         "opacity": 1,
         "orientation": "h",
         "showlegend": true,
         "textposition": "auto",
         "type": "bar",
         "x": {
          "bdata": "AAAAANg8BkEAAAAAkOz9QAAAAACQVwFBAAAAAHBt90AAAAAA8Ev2QAAAAADQhvhAAAAAAMBT9UAAAAAAsLn7QAAAAADA1fNAAAAAANDX/kAAAAAA+A0IQQAAAABwEgRBAAAAAOCy90AAAAAAAJn6QAAAAABwgPpAAAAAAAAs+UAAAAAA8Ev2QAAAAADQhvhAAAAAAECp9kAAAAAAkKcDQQAAAACwtw9B",
          "dtype": "f8"
         },
         "xaxis": "x",
         "y": [
          "Bahrain",
          "Bahrain",
          "Bahrain",
          "Bahrain",
          "Bahrain",
          "Bahrain",
          "Bahrain",
          "Bahrain",
          "Bahrain",
          "Bahrain",
          "Bahrain",
          "Bahrain",
          "Bahrain",
          "Bahrain",
          "Bahrain",
          "Bahrain",
          "Bahrain",
          "Bahrain",
          "Bahrain",
          "Bahrain",
          "Bahrain"
         ],
         "yaxis": "y"
        },
        {
         "hovertemplate": "Country=%{y}<br>Sale=%{x}<extra></extra>",
         "legendgroup": "India",
         "marker": {
          "color": "#EF553B",
          "line": {
           "width": 0
          },
          "pattern": {
           "shape": ""
          }
         },
         "name": "India",
         "opacity": 1,
         "orientation": "h",
         "showlegend": true,
         "textposition": "auto",
         "type": "bar",
         "x": {
          "bdata": "AAAAAIpiOUEAAAAA5jc0QQAAAIBiHkNBAAAAANmbP0EAAAAALTo6QQAAAACV2TxBAAAAADsWOUEAAACAck5AQQAAAADJNzpBAAAAALHbM0EAAAAAWCM4QQAAAABp/TRBAAAAADz9O0EAAAAAgIk9QQAAAABvrzhBAAAAAFHpMEEAAAAALTo6QQAAAACV2TxBAAAAAFtrNUEAAAAA4HE3QQAAAAAG8zVB",
          "dtype": "f8"
         },
         "xaxis": "x",
         "y": [
          "India",
          "India",
          "India",
          "India",
          "India",
          "India",
          "India",
          "India",
          "India",
          "India",
          "India",
          "India",
          "India",
          "India",
          "India",
          "India",
          "India",
          "India",
          "India",
          "India",
          "India"
         ],
         "yaxis": "y"
        },
        {
         "hovertemplate": "Country=%{y}<br>Sale=%{x}<extra></extra>",
         "legendgroup": "Kuwait",
         "marker": {
          "color": "#00cc96",
          "line": {
           "width": 0
          },
          "pattern": {
           "shape": ""
          }
         },
         "name": "Kuwait",
         "opacity": 1,
         "orientation": "h",
         "showlegend": true,
         "textposition": "auto",
         "type": "bar",
         "x": {
          "bdata": "AAAAACDs/kAAAAAAaJ0AQQAAAABQ2ARBAAAAAKgQC0EAAAAASMUBQQAAAAA4jANBAAAAAHj/AEEAAAAA4BgGQQAAAABQKfpAAAAAAMDJ5UAAAAAAUMD8QAAAAADgIPZAAAAAAEAr/UAAAAAAMGTyQAAAAAAgNONAAAAAACAV40AAAAAASMUBQQAAAAA4jANBAAAAAKBl6kAAAAAAQFPiQAAAAABgOetA",
          "dtype": "f8"
         },
         "xaxis": "x",
         "y": [
          "Kuwait",
          "Kuwait",
          "Kuwait",
          "Kuwait",
          "Kuwait",
          "Kuwait",
          "Kuwait",
          "Kuwait",
          "Kuwait",
          "Kuwait",
          "Kuwait",
          "Kuwait",
          "Kuwait",
          "Kuwait",
          "Kuwait",
          "Kuwait",
          "Kuwait",
          "Kuwait",
          "Kuwait",
          "Kuwait",
          "Kuwait"
         ],
         "yaxis": "y"
        },
        {
         "hovertemplate": "Country=%{y}<br>Sale=%{x}<extra></extra>",
         "legendgroup": "Oman",
         "marker": {
          "color": "#ab63fa",
          "line": {
           "width": 0
          },
          "pattern": {
           "shape": ""
          }
         },
         "name": "Oman",
         "opacity": 1,
         "orientation": "h",
         "showlegend": true,
         "textposition": "auto",
         "type": "bar",
         "x": {
          "bdata": "AAAAAFCvGUEAAAAAvNkcQQAAAADO7SZBAAAAAByvKUEAAAAAnLsZQQAAAABIThxBAAAAACidGEEAAAAAgP8fQQAAAACcqhZBAAAAAASGF0EAAAAAQO0dQQAAAABoviJBAAAAALjpGUEAAAAAELgaQQAAAACAiRlBAAAAAIBsC0EAAAAAnLsZQQAAAABIThxBAAAAAAzaHUEAAAAAPGYSQQAAAADwrxRB",
          "dtype": "f8"
         },
         "xaxis": "x",
         "y": [
          "Oman",
          "Oman",
          "Oman",
          "Oman",
          "Oman",
          "Oman",
          "Oman",
          "Oman",
          "Oman",
          "Oman",
          "Oman",
          "Oman",
          "Oman",
          "Oman",
          "Oman",
          "Oman",
          "Oman",
          "Oman",
          "Oman",
          "Oman",
          "Oman"
         ],
         "yaxis": "y"
        },
        {
         "hovertemplate": "Country=%{y}<br>Sale=%{x}<extra></extra>",
         "legendgroup": "Qatar",
         "marker": {
          "color": "#FFA15A",
          "line": {
           "width": 0
          },
          "pattern": {
           "shape": ""
          }
         },
         "name": "Qatar",
         "opacity": 1,
         "orientation": "h",
         "showlegend": true,
         "textposition": "auto",
         "type": "bar",
         "x": {
          "bdata": "AAAAABC0IUEAAAAA9O8RQQAAAAAAAAAAAAAAAAAAAAAAAAAAAAAAAAAAAAAAAAAAAAAAAAAAAAAAAAAAAAAAAAAAAAAAAAAAAAAAAKAg4kAAAAAAOSAwQQAAAABg2hpBAAAAAAAAAAAAAAAAAAAAAAAAAAAAAAAAAAAAAAAAAAAAAAAAAAAAAAAAAAAAAAAAAAAAAABqtkAAAAAAAAAAAAAAAAAAAAAA",
          "dtype": "f8"
         },
         "xaxis": "x",
         "y": [
          "Qatar",
          "Qatar",
          "Qatar",
          "Qatar",
          "Qatar",
          "Qatar",
          "Qatar",
          "Qatar",
          "Qatar",
          "Qatar",
          "Qatar",
          "Qatar",
          "Qatar",
          "Qatar",
          "Qatar",
          "Qatar",
          "Qatar",
          "Qatar",
          "Qatar",
          "Qatar",
          "Qatar"
         ],
         "yaxis": "y"
        },
        {
         "hovertemplate": "Country=%{y}<br>Sale=%{x}<extra></extra>",
         "legendgroup": "UAE",
         "marker": {
          "color": "#19d3f3",
          "line": {
           "width": 0
          },
          "pattern": {
           "shape": ""
          }
         },
         "name": "UAE",
         "opacity": 1,
         "orientation": "h",
         "showlegend": true,
         "textposition": "auto",
         "type": "bar",
         "x": {
          "bdata": "AAAAADUNNUEAAAAA3Qk0QQAAAAB79ENBAAAAgFa5Q0EAAAAAEOg1QQAAAADdGDhBAAAAADf0NEEAAAAAdz07QQAAAACaBixBAAAAAH5JI0EAAAAAWh0vQQAAAABSpipBAAAAANyFJUEAAAAAKBQsQQAAAAAsRyRBAAAAAND3H0EAAAAAEOg1QQAAAADdGDhBAAAAAABAKkEAAAAARuUwQQAAAAADKTBB",
          "dtype": "f8"
         },
         "xaxis": "x",
         "y": [
          "UAE",
          "UAE",
          "UAE",
          "UAE",
          "UAE",
          "UAE",
          "UAE",
          "UAE",
          "UAE",
          "UAE",
          "UAE",
          "UAE",
          "UAE",
          "UAE",
          "UAE",
          "UAE",
          "UAE",
          "UAE",
          "UAE",
          "UAE",
          "UAE"
         ],
         "yaxis": "y"
        }
       ],
       "layout": {
        "bargap": 0.5,
        "barmode": "relative",
        "legend": {
         "title": {
          "text": "Country"
         },
         "tracegroupgap": 0
        },
        "template": {
         "data": {
          "bar": [
           {
            "error_x": {
             "color": "#2a3f5f"
            },
            "error_y": {
             "color": "#2a3f5f"
            },
            "marker": {
             "line": {
              "color": "#E5ECF6",
              "width": 0.5
             },
             "pattern": {
              "fillmode": "overlay",
              "size": 10,
              "solidity": 0.2
             }
            },
            "type": "bar"
           }
          ],
          "barpolar": [
           {
            "marker": {
             "line": {
              "color": "#E5ECF6",
              "width": 0.5
             },
             "pattern": {
              "fillmode": "overlay",
              "size": 10,
              "solidity": 0.2
             }
            },
            "type": "barpolar"
           }
          ],
          "carpet": [
           {
            "aaxis": {
             "endlinecolor": "#2a3f5f",
             "gridcolor": "white",
             "linecolor": "white",
             "minorgridcolor": "white",
             "startlinecolor": "#2a3f5f"
            },
            "baxis": {
             "endlinecolor": "#2a3f5f",
             "gridcolor": "white",
             "linecolor": "white",
             "minorgridcolor": "white",
             "startlinecolor": "#2a3f5f"
            },
            "type": "carpet"
           }
          ],
          "choropleth": [
           {
            "colorbar": {
             "outlinewidth": 0,
             "ticks": ""
            },
            "type": "choropleth"
           }
          ],
          "contour": [
           {
            "colorbar": {
             "outlinewidth": 0,
             "ticks": ""
            },
            "colorscale": [
             [
              0,
              "#0d0887"
             ],
             [
              0.1111111111111111,
              "#46039f"
             ],
             [
              0.2222222222222222,
              "#7201a8"
             ],
             [
              0.3333333333333333,
              "#9c179e"
             ],
             [
              0.4444444444444444,
              "#bd3786"
             ],
             [
              0.5555555555555556,
              "#d8576b"
             ],
             [
              0.6666666666666666,
              "#ed7953"
             ],
             [
              0.7777777777777778,
              "#fb9f3a"
             ],
             [
              0.8888888888888888,
              "#fdca26"
             ],
             [
              1,
              "#f0f921"
             ]
            ],
            "type": "contour"
           }
          ],
          "contourcarpet": [
           {
            "colorbar": {
             "outlinewidth": 0,
             "ticks": ""
            },
            "type": "contourcarpet"
           }
          ],
          "heatmap": [
           {
            "colorbar": {
             "outlinewidth": 0,
             "ticks": ""
            },
            "colorscale": [
             [
              0,
              "#0d0887"
             ],
             [
              0.1111111111111111,
              "#46039f"
             ],
             [
              0.2222222222222222,
              "#7201a8"
             ],
             [
              0.3333333333333333,
              "#9c179e"
             ],
             [
              0.4444444444444444,
              "#bd3786"
             ],
             [
              0.5555555555555556,
              "#d8576b"
             ],
             [
              0.6666666666666666,
              "#ed7953"
             ],
             [
              0.7777777777777778,
              "#fb9f3a"
             ],
             [
              0.8888888888888888,
              "#fdca26"
             ],
             [
              1,
              "#f0f921"
             ]
            ],
            "type": "heatmap"
           }
          ],
          "histogram": [
           {
            "marker": {
             "pattern": {
              "fillmode": "overlay",
              "size": 10,
              "solidity": 0.2
             }
            },
            "type": "histogram"
           }
          ],
          "histogram2d": [
           {
            "colorbar": {
             "outlinewidth": 0,
             "ticks": ""
            },
            "colorscale": [
             [
              0,
              "#0d0887"
             ],
             [
              0.1111111111111111,
              "#46039f"
             ],
             [
              0.2222222222222222,
              "#7201a8"
             ],
             [
              0.3333333333333333,
              "#9c179e"
             ],
             [
              0.4444444444444444,
              "#bd3786"
             ],
             [
              0.5555555555555556,
              "#d8576b"
             ],
             [
              0.6666666666666666,
              "#ed7953"
             ],
             [
              0.7777777777777778,
              "#fb9f3a"
             ],
             [
              0.8888888888888888,
              "#fdca26"
             ],
             [
              1,
              "#f0f921"
             ]
            ],
            "type": "histogram2d"
           }
          ],
          "histogram2dcontour": [
           {
            "colorbar": {
             "outlinewidth": 0,
             "ticks": ""
            },
            "colorscale": [
             [
              0,
              "#0d0887"
             ],
             [
              0.1111111111111111,
              "#46039f"
             ],
             [
              0.2222222222222222,
              "#7201a8"
             ],
             [
              0.3333333333333333,
              "#9c179e"
             ],
             [
              0.4444444444444444,
              "#bd3786"
             ],
             [
              0.5555555555555556,
              "#d8576b"
             ],
             [
              0.6666666666666666,
              "#ed7953"
             ],
             [
              0.7777777777777778,
              "#fb9f3a"
             ],
             [
              0.8888888888888888,
              "#fdca26"
             ],
             [
              1,
              "#f0f921"
             ]
            ],
            "type": "histogram2dcontour"
           }
          ],
          "mesh3d": [
           {
            "colorbar": {
             "outlinewidth": 0,
             "ticks": ""
            },
            "type": "mesh3d"
           }
          ],
          "parcoords": [
           {
            "line": {
             "colorbar": {
              "outlinewidth": 0,
              "ticks": ""
             }
            },
            "type": "parcoords"
           }
          ],
          "pie": [
           {
            "automargin": true,
            "type": "pie"
           }
          ],
          "scatter": [
           {
            "fillpattern": {
             "fillmode": "overlay",
             "size": 10,
             "solidity": 0.2
            },
            "type": "scatter"
           }
          ],
          "scatter3d": [
           {
            "line": {
             "colorbar": {
              "outlinewidth": 0,
              "ticks": ""
             }
            },
            "marker": {
             "colorbar": {
              "outlinewidth": 0,
              "ticks": ""
             }
            },
            "type": "scatter3d"
           }
          ],
          "scattercarpet": [
           {
            "marker": {
             "colorbar": {
              "outlinewidth": 0,
              "ticks": ""
             }
            },
            "type": "scattercarpet"
           }
          ],
          "scattergeo": [
           {
            "marker": {
             "colorbar": {
              "outlinewidth": 0,
              "ticks": ""
             }
            },
            "type": "scattergeo"
           }
          ],
          "scattergl": [
           {
            "marker": {
             "colorbar": {
              "outlinewidth": 0,
              "ticks": ""
             }
            },
            "type": "scattergl"
           }
          ],
          "scattermap": [
           {
            "marker": {
             "colorbar": {
              "outlinewidth": 0,
              "ticks": ""
             }
            },
            "type": "scattermap"
           }
          ],
          "scattermapbox": [
           {
            "marker": {
             "colorbar": {
              "outlinewidth": 0,
              "ticks": ""
             }
            },
            "type": "scattermapbox"
           }
          ],
          "scatterpolar": [
           {
            "marker": {
             "colorbar": {
              "outlinewidth": 0,
              "ticks": ""
             }
            },
            "type": "scatterpolar"
           }
          ],
          "scatterpolargl": [
           {
            "marker": {
             "colorbar": {
              "outlinewidth": 0,
              "ticks": ""
             }
            },
            "type": "scatterpolargl"
           }
          ],
          "scatterternary": [
           {
            "marker": {
             "colorbar": {
              "outlinewidth": 0,
              "ticks": ""
             }
            },
            "type": "scatterternary"
           }
          ],
          "surface": [
           {
            "colorbar": {
             "outlinewidth": 0,
             "ticks": ""
            },
            "colorscale": [
             [
              0,
              "#0d0887"
             ],
             [
              0.1111111111111111,
              "#46039f"
             ],
             [
              0.2222222222222222,
              "#7201a8"
             ],
             [
              0.3333333333333333,
              "#9c179e"
             ],
             [
              0.4444444444444444,
              "#bd3786"
             ],
             [
              0.5555555555555556,
              "#d8576b"
             ],
             [
              0.6666666666666666,
              "#ed7953"
             ],
             [
              0.7777777777777778,
              "#fb9f3a"
             ],
             [
              0.8888888888888888,
              "#fdca26"
             ],
             [
              1,
              "#f0f921"
             ]
            ],
            "type": "surface"
           }
          ],
          "table": [
           {
            "cells": {
             "fill": {
              "color": "#EBF0F8"
             },
             "line": {
              "color": "white"
             }
            },
            "header": {
             "fill": {
              "color": "#C8D4E3"
             },
             "line": {
              "color": "white"
             }
            },
            "type": "table"
           }
          ]
         },
         "layout": {
          "annotationdefaults": {
           "arrowcolor": "#2a3f5f",
           "arrowhead": 0,
           "arrowwidth": 1
          },
          "autotypenumbers": "strict",
          "coloraxis": {
           "colorbar": {
            "outlinewidth": 0,
            "ticks": ""
           }
          },
          "colorscale": {
           "diverging": [
            [
             0,
             "#8e0152"
            ],
            [
             0.1,
             "#c51b7d"
            ],
            [
             0.2,
             "#de77ae"
            ],
            [
             0.3,
             "#f1b6da"
            ],
            [
             0.4,
             "#fde0ef"
            ],
            [
             0.5,
             "#f7f7f7"
            ],
            [
             0.6,
             "#e6f5d0"
            ],
            [
             0.7,
             "#b8e186"
            ],
            [
             0.8,
             "#7fbc41"
            ],
            [
             0.9,
             "#4d9221"
            ],
            [
             1,
             "#276419"
            ]
           ],
           "sequential": [
            [
             0,
             "#0d0887"
            ],
            [
             0.1111111111111111,
             "#46039f"
            ],
            [
             0.2222222222222222,
             "#7201a8"
            ],
            [
             0.3333333333333333,
             "#9c179e"
            ],
            [
             0.4444444444444444,
             "#bd3786"
            ],
            [
             0.5555555555555556,
             "#d8576b"
            ],
            [
             0.6666666666666666,
             "#ed7953"
            ],
            [
             0.7777777777777778,
             "#fb9f3a"
            ],
            [
             0.8888888888888888,
             "#fdca26"
            ],
            [
             1,
             "#f0f921"
            ]
           ],
           "sequentialminus": [
            [
             0,
             "#0d0887"
            ],
            [
             0.1111111111111111,
             "#46039f"
            ],
            [
             0.2222222222222222,
             "#7201a8"
            ],
            [
             0.3333333333333333,
             "#9c179e"
            ],
            [
             0.4444444444444444,
             "#bd3786"
            ],
            [
             0.5555555555555556,
             "#d8576b"
            ],
            [
             0.6666666666666666,
             "#ed7953"
            ],
            [
             0.7777777777777778,
             "#fb9f3a"
            ],
            [
             0.8888888888888888,
             "#fdca26"
            ],
            [
             1,
             "#f0f921"
            ]
           ]
          },
          "colorway": [
           "#636efa",
           "#EF553B",
           "#00cc96",
           "#ab63fa",
           "#FFA15A",
           "#19d3f3",
           "#FF6692",
           "#B6E880",
           "#FF97FF",
           "#FECB52"
          ],
          "font": {
           "color": "#2a3f5f"
          },
          "geo": {
           "bgcolor": "white",
           "lakecolor": "white",
           "landcolor": "#E5ECF6",
           "showlakes": true,
           "showland": true,
           "subunitcolor": "white"
          },
          "hoverlabel": {
           "align": "left"
          },
          "hovermode": "closest",
          "mapbox": {
           "style": "light"
          },
          "paper_bgcolor": "white",
          "plot_bgcolor": "#E5ECF6",
          "polar": {
           "angularaxis": {
            "gridcolor": "white",
            "linecolor": "white",
            "ticks": ""
           },
           "bgcolor": "#E5ECF6",
           "radialaxis": {
            "gridcolor": "white",
            "linecolor": "white",
            "ticks": ""
           }
          },
          "scene": {
           "xaxis": {
            "backgroundcolor": "#E5ECF6",
            "gridcolor": "white",
            "gridwidth": 2,
            "linecolor": "white",
            "showbackground": true,
            "ticks": "",
            "zerolinecolor": "white"
           },
           "yaxis": {
            "backgroundcolor": "#E5ECF6",
            "gridcolor": "white",
            "gridwidth": 2,
            "linecolor": "white",
            "showbackground": true,
            "ticks": "",
            "zerolinecolor": "white"
           },
           "zaxis": {
            "backgroundcolor": "#E5ECF6",
            "gridcolor": "white",
            "gridwidth": 2,
            "linecolor": "white",
            "showbackground": true,
            "ticks": "",
            "zerolinecolor": "white"
           }
          },
          "shapedefaults": {
           "line": {
            "color": "#2a3f5f"
           }
          },
          "ternary": {
           "aaxis": {
            "gridcolor": "white",
            "linecolor": "white",
            "ticks": ""
           },
           "baxis": {
            "gridcolor": "white",
            "linecolor": "white",
            "ticks": ""
           },
           "bgcolor": "#E5ECF6",
           "caxis": {
            "gridcolor": "white",
            "linecolor": "white",
            "ticks": ""
           }
          },
          "title": {
           "x": 0.05
          },
          "xaxis": {
           "automargin": true,
           "gridcolor": "white",
           "linecolor": "white",
           "ticks": "",
           "title": {
            "standoff": 15
           },
           "zerolinecolor": "white",
           "zerolinewidth": 2
          },
          "yaxis": {
           "automargin": true,
           "gridcolor": "white",
           "linecolor": "white",
           "ticks": "",
           "title": {
            "standoff": 15
           },
           "zerolinecolor": "white",
           "zerolinewidth": 2
          }
         }
        },
        "title": {
         "text": "Sales by Country"
        },
        "xaxis": {
         "anchor": "y",
         "domain": [
          0,
          1
         ],
         "title": {
          "text": "Sale"
         }
        },
        "yaxis": {
         "anchor": "x",
         "categoryarray": [
          "UAE",
          "Qatar",
          "Oman",
          "Kuwait",
          "India",
          "Bahrain"
         ],
         "categoryorder": "array",
         "domain": [
          0,
          1
         ],
         "title": {
          "text": "Country"
         }
        }
       }
      }
     },
     "metadata": {},
     "output_type": "display_data"
    }
   ],
   "source": [
    "bar_chart = px.bar(sales_country, x=\"Sale\", y=\"Country\", color=\"Country\",\n",
    "                   title=\"Sales by Country\", orientation=\"h\")\n",
    "bar_chart.update_layout({'bargap': 0.5})\n",
    "bar_chart.update_traces(opacity=1, marker_line_width=0)\n",
    "bar_chart.show()"
   ]
  }
 ],
 "metadata": {
  "kernelspec": {
   "display_name": "Python 3",
   "language": "python",
   "name": "python3"
  },
  "language_info": {
   "codemirror_mode": {
    "name": "ipython",
    "version": 3
   },
   "file_extension": ".py",
   "mimetype": "text/x-python",
   "name": "python",
   "nbconvert_exporter": "python",
   "pygments_lexer": "ipython3",
   "version": "3.13.7"
  }
 },
 "nbformat": 4,
 "nbformat_minor": 5
}
